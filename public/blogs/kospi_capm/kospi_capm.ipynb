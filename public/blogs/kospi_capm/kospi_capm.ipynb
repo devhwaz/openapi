{
  "nbformat": 4,
  "nbformat_minor": 0,
  "metadata": {
    "colab": {
      "name": "KOSPI_CAPM.ipynb",
      "provenance": [],
      "collapsed_sections": []
    },
    "kernelspec": {
      "name": "python3",
      "display_name": "Python 3"
    }
  },
  "cells": [
    {
      "cell_type": "markdown",
      "metadata": {
        "id": "3XaqI_d59Yiz",
        "colab_type": "text"
      },
      "source": [
        "# 한국 주식시장의 자본자산가격모형"
      ]
    },
    {
      "cell_type": "markdown",
      "metadata": {
        "id": "AvPuAOue9fF4",
        "colab_type": "text"
      },
      "source": [
        "자본자산가격모형(CAPM: Capital Asset Pricing Model)이란 자산, 즉 주식의 초과수익률이 기본적으로 시장 초과수익률에 비례하게 된다는 모형이다. 이 글에서는 한국 주식시장에서 자본자산가격모형이 실제로 성립하는지와 자본자산가격모형에 따른 주식 선택의 예를 살펴본다."
      ]
    },
    {
      "cell_type": "markdown",
      "metadata": {
        "id": "iMdmMIwU_fmh",
        "colab_type": "text"
      },
      "source": [
        "## 자본자산가격모형"
      ]
    },
    {
      "cell_type": "markdown",
      "metadata": {
        "id": "BY5c5bJA_h7k",
        "colab_type": "text"
      },
      "source": [
        "자본자산가격모형에 의하면 시장에서 무위험이자률 $R_f$를 초과하는 주식의 수익률 $R$은 시장지수 수익률 $R_M$과 다음 식처럼 선형적인 상관관계를 가진다. \n",
        "\n",
        "$$ R - R_f = \\alpha + \\beta(R_M - R_f) + \\varepsilon $$\n",
        "\n",
        "이 식에서 베타($\\beta$)는 시장 초과수익률과 자산 초과수익률의 비례상수다. 보통 자본에 대한 부채의 비율 즉, 레버리지(leverage)가 큰 종목일수록 베타가 1보다 커지고 자본 대비 부채 비율이 적은 종목일수록 베타가 1보다 작아진다. 또한 시간이 지나면서 회사의 부채비율이 안정되고 다양한 수익사업을 영유할수록 베타의 값이 1로 수렴하는 현상을 보인다고 알려져 있다. 알파($\\alpha$)는 시장 대비 자산의 수익률이 더 높은 부분을 뜻하는 값으로 알파값이 클수록 시장을 뛰어넘는 좋은 수익률을 보이게 된다. 비체계적 위험 혹은 종목(회사)별 위험이라고 불리는 $\\varepsilon$ 값은 시장과 관계없이 해당 종목(회사)이 가지는 고유의 위험으로 인한 수익률 변화를 말한다. \n",
        "\n",
        "이러한 자본자산가격모형이 실제로 한국주식시장에서 성립하는지를 살펴보기위해 5년간의 월간 수익률을 이용하여 자산 수익률과 시장 수익률의 선형회귀분석을 해본다. 수익률 데이터는 코스콤의 오픈API를 사용한다. 코스콤의 오픈API를 사용하려면 코스콤 오픈API 웹사이트에(http://devcenter.koscom.co.kr/) 회원으로 가입한 후 각각의 API에 대한 사용 계약을 체결한다. 계약 후에는 API키를 사용하여 REST API 방식으로 편리하게 데이터를 다운로드 받을 수 있다. \n"
      ]
    },
    {
      "cell_type": "code",
      "metadata": {
        "id": "9TLolOALMVkv",
        "colab_type": "code",
        "colab": {}
      },
      "source": [
        "apikey = 'xxxxxxxxxxxxxxxxxxxxxxxxxxxxxxxxxxxx'  # 여기에는 실제 키값을 넣어야 한다. "
      ],
      "execution_count": 0,
      "outputs": []
    },
    {
      "cell_type": "markdown",
      "metadata": {
        "id": "I5e7iswLDCos",
        "colab_type": "text"
      },
      "source": [
        "## 패키지 임포트"
      ]
    },
    {
      "cell_type": "markdown",
      "metadata": {
        "id": "WLTZ4dHACnYk",
        "colab_type": "text"
      },
      "source": [
        "이 분석을 위해 우선 다음과 같은 패키지를 임포트한다. urllib, json, time 패키지는 데이터를 다운로드 받기위한 것이고 statsmodels는 회귀분석용 패키지다. numpy, scipy, pandas, matplotlib 등은 세부적인 분석을 위해 사용한다. statsmodels의 주의사항(warning)은 무시해도 된다.  "
      ]
    },
    {
      "cell_type": "code",
      "metadata": {
        "id": "wJVaAKwx3PP8",
        "colab_type": "code",
        "colab": {
          "base_uri": "https://localhost:8080/",
          "height": 53
        },
        "outputId": "cd7a2dd6-fe01-4937-b470-642ba439c117"
      },
      "source": [
        "from urllib import request\n",
        "from urllib.parse import quote_plus, urlencode\n",
        "from json import loads\n",
        "import pandas as pd\n",
        "import matplotlib.pyplot as plt\n",
        "import statsmodels.api as sm\n",
        "import seaborn as sns\n",
        "import numpy as np\n",
        "import scipy as sp\n",
        "import time"
      ],
      "execution_count": 3,
      "outputs": [
        {
          "output_type": "stream",
          "text": [
            "/usr/local/lib/python3.6/dist-packages/statsmodels/tools/_testing.py:19: FutureWarning: pandas.util.testing is deprecated. Use the functions in the public API at pandas.testing instead.\n",
            "  import pandas.util.testing as tm\n"
          ],
          "name": "stderr"
        }
      ]
    },
    {
      "cell_type": "markdown",
      "metadata": {
        "id": "ps1Ktq2vPkji",
        "colab_type": "text"
      },
      "source": [
        "## 코스피200 지수"
      ]
    },
    {
      "cell_type": "markdown",
      "metadata": {
        "id": "-wxhNQDiD24x",
        "colab_type": "text"
      },
      "source": [
        "시장 지수로는 코스피200 지수를 사용한다. 다음 API코드로 2014년 12월부터 2019년 12월까지의 5년간 월말 61개의 코스피200 지수값을 데이터프레임 형태로 다운로드 받을 수 있다. "
      ]
    },
    {
      "cell_type": "code",
      "metadata": {
        "id": "C0Iq-CRfNhNN",
        "colab_type": "code",
        "outputId": "2e2be4b9-a08d-400b-ce52-bbb4797db49c",
        "colab": {
          "base_uri": "https://localhost:8080/",
          "height": 419
        }
      },
      "source": [
        "url = \"https://apigw.koscom.co.kr/v2/market/index/kospi/K51/history\"\n",
        "queryParams = '?' + urlencode({ quote_plus('trnsmCycleTpCd') : 'M' ,quote_plus('inqStrtDd') : '20141201' ,quote_plus('inqEndDd') : '20191231' ,quote_plus('reqCnt') : '61' ,quote_plus('apikey') : apikey })\n",
        "response_body = request.urlopen(url + queryParams).read()\n",
        "df_kospi200 = pd.DataFrame(loads(response_body)[\"result\"][\"hisLists\"]).sort_values(\"trdDd\").reset_index(drop=True)\n",
        "df_kospi200"
      ],
      "execution_count": 4,
      "outputs": [
        {
          "output_type": "execute_result",
          "data": {
            "text/html": [
              "<div>\n",
              "<style scoped>\n",
              "    .dataframe tbody tr th:only-of-type {\n",
              "        vertical-align: middle;\n",
              "    }\n",
              "\n",
              "    .dataframe tbody tr th {\n",
              "        vertical-align: top;\n",
              "    }\n",
              "\n",
              "    .dataframe thead th {\n",
              "        text-align: right;\n",
              "    }\n",
              "</style>\n",
              "<table border=\"1\" class=\"dataframe\">\n",
              "  <thead>\n",
              "    <tr style=\"text-align: right;\">\n",
              "      <th></th>\n",
              "      <th>trdDd</th>\n",
              "      <th>trdPrc</th>\n",
              "      <th>cmpprevddTpCd</th>\n",
              "      <th>opnprc</th>\n",
              "      <th>hgprc</th>\n",
              "      <th>lwprc</th>\n",
              "      <th>accTrdvol</th>\n",
              "      <th>accTrdval</th>\n",
              "      <th>cmpprevddPrc</th>\n",
              "    </tr>\n",
              "  </thead>\n",
              "  <tbody>\n",
              "    <tr>\n",
              "      <th>0</th>\n",
              "      <td>20141230</td>\n",
              "      <td>244.05</td>\n",
              "      <td>5</td>\n",
              "      <td>252.09</td>\n",
              "      <td>254.68</td>\n",
              "      <td>241.89</td>\n",
              "      <td>1232291</td>\n",
              "      <td>54330950</td>\n",
              "      <td>-9.65</td>\n",
              "    </tr>\n",
              "    <tr>\n",
              "      <th>1</th>\n",
              "      <td>20150130</td>\n",
              "      <td>249.88</td>\n",
              "      <td>2</td>\n",
              "      <td>243.96</td>\n",
              "      <td>252.50</td>\n",
              "      <td>239.09</td>\n",
              "      <td>1442673</td>\n",
              "      <td>64525682</td>\n",
              "      <td>5.83</td>\n",
              "    </tr>\n",
              "    <tr>\n",
              "      <th>2</th>\n",
              "      <td>20150227</td>\n",
              "      <td>251.46</td>\n",
              "      <td>2</td>\n",
              "      <td>249.83</td>\n",
              "      <td>253.22</td>\n",
              "      <td>246.32</td>\n",
              "      <td>1169494</td>\n",
              "      <td>53736356</td>\n",
              "      <td>1.58</td>\n",
              "    </tr>\n",
              "    <tr>\n",
              "      <th>3</th>\n",
              "      <td>20150331</td>\n",
              "      <td>257.28</td>\n",
              "      <td>2</td>\n",
              "      <td>253.13</td>\n",
              "      <td>260.68</td>\n",
              "      <td>250.09</td>\n",
              "      <td>1770045</td>\n",
              "      <td>80257520</td>\n",
              "      <td>5.82</td>\n",
              "    </tr>\n",
              "    <tr>\n",
              "      <th>4</th>\n",
              "      <td>20150430</td>\n",
              "      <td>266.42</td>\n",
              "      <td>2</td>\n",
              "      <td>256.44</td>\n",
              "      <td>275.11</td>\n",
              "      <td>254.70</td>\n",
              "      <td>2297789</td>\n",
              "      <td>101308418</td>\n",
              "      <td>9.14</td>\n",
              "    </tr>\n",
              "    <tr>\n",
              "      <th>...</th>\n",
              "      <td>...</td>\n",
              "      <td>...</td>\n",
              "      <td>...</td>\n",
              "      <td>...</td>\n",
              "      <td>...</td>\n",
              "      <td>...</td>\n",
              "      <td>...</td>\n",
              "      <td>...</td>\n",
              "      <td>...</td>\n",
              "    </tr>\n",
              "    <tr>\n",
              "      <th>56</th>\n",
              "      <td>20190830</td>\n",
              "      <td>259.00</td>\n",
              "      <td>5</td>\n",
              "      <td>264.97</td>\n",
              "      <td>267.44</td>\n",
              "      <td>250.24</td>\n",
              "      <td>1807417</td>\n",
              "      <td>66653882</td>\n",
              "      <td>-7.34</td>\n",
              "    </tr>\n",
              "    <tr>\n",
              "      <th>57</th>\n",
              "      <td>20190930</td>\n",
              "      <td>273.55</td>\n",
              "      <td>2</td>\n",
              "      <td>258.25</td>\n",
              "      <td>278.17</td>\n",
              "      <td>257.40</td>\n",
              "      <td>1359643</td>\n",
              "      <td>58447197</td>\n",
              "      <td>14.55</td>\n",
              "    </tr>\n",
              "    <tr>\n",
              "      <th>58</th>\n",
              "      <td>20191031</td>\n",
              "      <td>275.82</td>\n",
              "      <td>2</td>\n",
              "      <td>273.43</td>\n",
              "      <td>279.49</td>\n",
              "      <td>266.23</td>\n",
              "      <td>1356621</td>\n",
              "      <td>62095373</td>\n",
              "      <td>2.27</td>\n",
              "    </tr>\n",
              "    <tr>\n",
              "      <th>59</th>\n",
              "      <td>20191129</td>\n",
              "      <td>276.78</td>\n",
              "      <td>2</td>\n",
              "      <td>276.17</td>\n",
              "      <td>287.78</td>\n",
              "      <td>275.59</td>\n",
              "      <td>1508025</td>\n",
              "      <td>67471160</td>\n",
              "      <td>0.96</td>\n",
              "    </tr>\n",
              "    <tr>\n",
              "      <th>60</th>\n",
              "      <td>20191230</td>\n",
              "      <td>293.77</td>\n",
              "      <td>2</td>\n",
              "      <td>278.27</td>\n",
              "      <td>296.95</td>\n",
              "      <td>272.53</td>\n",
              "      <td>1494562</td>\n",
              "      <td>68574731</td>\n",
              "      <td>16.99</td>\n",
              "    </tr>\n",
              "  </tbody>\n",
              "</table>\n",
              "<p>61 rows × 9 columns</p>\n",
              "</div>"
            ],
            "text/plain": [
              "       trdDd  trdPrc cmpprevddTpCd  ...  accTrdvol  accTrdval  cmpprevddPrc\n",
              "0   20141230  244.05             5  ...    1232291   54330950         -9.65\n",
              "1   20150130  249.88             2  ...    1442673   64525682          5.83\n",
              "2   20150227  251.46             2  ...    1169494   53736356          1.58\n",
              "3   20150331  257.28             2  ...    1770045   80257520          5.82\n",
              "4   20150430  266.42             2  ...    2297789  101308418          9.14\n",
              "..       ...     ...           ...  ...        ...        ...           ...\n",
              "56  20190830  259.00             5  ...    1807417   66653882         -7.34\n",
              "57  20190930  273.55             2  ...    1359643   58447197         14.55\n",
              "58  20191031  275.82             2  ...    1356621   62095373          2.27\n",
              "59  20191129  276.78             2  ...    1508025   67471160          0.96\n",
              "60  20191230  293.77             2  ...    1494562   68574731         16.99\n",
              "\n",
              "[61 rows x 9 columns]"
            ]
          },
          "metadata": {
            "tags": []
          },
          "execution_count": 4
        }
      ]
    },
    {
      "cell_type": "markdown",
      "metadata": {
        "id": "wpVpM85RENNN",
        "colab_type": "text"
      },
      "source": [
        "이 중 `trdPrc` 필드값이 지수값이다. 그래프로 표현하면 다음과 같다."
      ]
    },
    {
      "cell_type": "code",
      "metadata": {
        "id": "yqLYlfNmNhSL",
        "colab_type": "code",
        "outputId": "23355677-41d0-4d5c-c178-057b069d07fc",
        "colab": {
          "base_uri": "https://localhost:8080/",
          "height": 265
        }
      },
      "source": [
        "df_kospi200[\"trdPrc\"].plot()\n",
        "plt.show()"
      ],
      "execution_count": 5,
      "outputs": [
        {
          "output_type": "display_data",
          "data": {
            "image/png": "[encoded data removed]",
            "text/plain": [
              "<Figure size 432x288 with 1 Axes>"
            ]
          },
          "metadata": {
            "tags": [],
            "needs_background": "light"
          }
        }
      ]
    },
    {
      "cell_type": "markdown",
      "metadata": {
        "id": "5xtdR3OJETcN",
        "colab_type": "text"
      },
      "source": [
        "자본자산가격모형에 필요한 것은 가격 자체가 아닌 수익률이므로 5년간 60개의 월간 수익률을 계산하면 다음과 같다."
      ]
    },
    {
      "cell_type": "code",
      "metadata": {
        "id": "bTvTehg9NhVi",
        "colab_type": "code",
        "outputId": "5632664e-75d1-4226-935e-828c17085e6a",
        "colab": {
          "base_uri": "https://localhost:8080/",
          "height": 268
        }
      },
      "source": [
        "kospi200_rets = df_kospi200[\"trdPrc\"].pct_change().dropna().values\n",
        "plt.plot(kospi200_rets)\n",
        "plt.show()"
      ],
      "execution_count": 6,
      "outputs": [
        {
          "output_type": "display_data",
          "data": {
            "image/png": "[encoded data removed]",
            "text/plain": [
              "<Figure size 432x288 with 1 Axes>"
            ]
          },
          "metadata": {
            "tags": [],
            "needs_background": "light"
          }
        }
      ]
    },
    {
      "cell_type": "markdown",
      "metadata": {
        "id": "ZfhuFf6eQYZC",
        "colab_type": "text"
      },
      "source": [
        "## 삼성전자"
      ]
    },
    {
      "cell_type": "markdown",
      "metadata": {
        "id": "TW4SDqUFEc5O",
        "colab_type": "text"
      },
      "source": [
        "자산의 예로 삼성전자 보통주를 생각하자. 코스피200 지수와 마찬가지로 2014년 12월부터 2019년 12월까지의 주가를 다운로드 받는다."
      ]
    },
    {
      "cell_type": "code",
      "metadata": {
        "id": "4TJZbMxpNhX6",
        "colab_type": "code",
        "outputId": "d0b91e61-8846-4839-b0a7-2c285c40a83d",
        "colab": {
          "base_uri": "https://localhost:8080/",
          "height": 419
        }
      },
      "source": [
        "url = \"https://apigw.koscom.co.kr/v2/market/stocks/kospi/005930/history\"\n",
        "queryParams = '?' + urlencode({ quote_plus('trnsmCycleTpCd') : 'M' ,quote_plus('inqStrtDd') : '20141201' ,quote_plus('inqEndDd') : '20191231' ,quote_plus('reqCnt') : '121' ,quote_plus('apikey') : apikey  })\n",
        "response_body = request.urlopen(url + queryParams).read()\n",
        "df_stock = pd.DataFrame(loads(response_body)[\"result\"][\"hisLists\"]).sort_values(\"trdDd\").reset_index(drop=True)\n",
        "df_stock"
      ],
      "execution_count": 7,
      "outputs": [
        {
          "output_type": "execute_result",
          "data": {
            "text/html": [
              "<div>\n",
              "<style scoped>\n",
              "    .dataframe tbody tr th:only-of-type {\n",
              "        vertical-align: middle;\n",
              "    }\n",
              "\n",
              "    .dataframe tbody tr th {\n",
              "        vertical-align: top;\n",
              "    }\n",
              "\n",
              "    .dataframe thead th {\n",
              "        text-align: right;\n",
              "    }\n",
              "</style>\n",
              "<table border=\"1\" class=\"dataframe\">\n",
              "  <thead>\n",
              "    <tr style=\"text-align: right;\">\n",
              "      <th></th>\n",
              "      <th>trdDd</th>\n",
              "      <th>trdPrc</th>\n",
              "      <th>cmpprevddTpCd</th>\n",
              "      <th>opnprc</th>\n",
              "      <th>hgprc</th>\n",
              "      <th>lwprc</th>\n",
              "      <th>accTrdvol</th>\n",
              "      <th>accTrdval</th>\n",
              "      <th>cmpprevddPrc</th>\n",
              "    </tr>\n",
              "  </thead>\n",
              "  <tbody>\n",
              "    <tr>\n",
              "      <th>0</th>\n",
              "      <td>20141230</td>\n",
              "      <td>26540</td>\n",
              "      <td>2</td>\n",
              "      <td>25880</td>\n",
              "      <td>27140</td>\n",
              "      <td>25040</td>\n",
              "      <td>5122154</td>\n",
              "      <td>6710693856326</td>\n",
              "      <td>800</td>\n",
              "    </tr>\n",
              "    <tr>\n",
              "      <th>1</th>\n",
              "      <td>20150130</td>\n",
              "      <td>27300</td>\n",
              "      <td>2</td>\n",
              "      <td>26800</td>\n",
              "      <td>28000</td>\n",
              "      <td>25640</td>\n",
              "      <td>5260414</td>\n",
              "      <td>7086899072535</td>\n",
              "      <td>760</td>\n",
              "    </tr>\n",
              "    <tr>\n",
              "      <th>2</th>\n",
              "      <td>20150227</td>\n",
              "      <td>27140</td>\n",
              "      <td>5</td>\n",
              "      <td>27300</td>\n",
              "      <td>28000</td>\n",
              "      <td>26620</td>\n",
              "      <td>3008737</td>\n",
              "      <td>4118363978978</td>\n",
              "      <td>-160</td>\n",
              "    </tr>\n",
              "    <tr>\n",
              "      <th>3</th>\n",
              "      <td>20150331</td>\n",
              "      <td>28820</td>\n",
              "      <td>2</td>\n",
              "      <td>27500</td>\n",
              "      <td>30200</td>\n",
              "      <td>27340</td>\n",
              "      <td>5598436</td>\n",
              "      <td>8112624535072</td>\n",
              "      <td>1680</td>\n",
              "    </tr>\n",
              "    <tr>\n",
              "      <th>4</th>\n",
              "      <td>20150430</td>\n",
              "      <td>28200</td>\n",
              "      <td>5</td>\n",
              "      <td>28740</td>\n",
              "      <td>29880</td>\n",
              "      <td>27180</td>\n",
              "      <td>4965983</td>\n",
              "      <td>7142279454911</td>\n",
              "      <td>-620</td>\n",
              "    </tr>\n",
              "    <tr>\n",
              "      <th>...</th>\n",
              "      <td>...</td>\n",
              "      <td>...</td>\n",
              "      <td>...</td>\n",
              "      <td>...</td>\n",
              "      <td>...</td>\n",
              "      <td>...</td>\n",
              "      <td>...</td>\n",
              "      <td>...</td>\n",
              "      <td>...</td>\n",
              "    </tr>\n",
              "    <tr>\n",
              "      <th>56</th>\n",
              "      <td>20190830</td>\n",
              "      <td>44000</td>\n",
              "      <td>5</td>\n",
              "      <td>44900</td>\n",
              "      <td>45500</td>\n",
              "      <td>42500</td>\n",
              "      <td>205260271</td>\n",
              "      <td>8996490906761</td>\n",
              "      <td>-1350</td>\n",
              "    </tr>\n",
              "    <tr>\n",
              "      <th>57</th>\n",
              "      <td>20190930</td>\n",
              "      <td>49050</td>\n",
              "      <td>2</td>\n",
              "      <td>44850</td>\n",
              "      <td>49650</td>\n",
              "      <td>43100</td>\n",
              "      <td>207963296</td>\n",
              "      <td>9804325904255</td>\n",
              "      <td>5050</td>\n",
              "    </tr>\n",
              "    <tr>\n",
              "      <th>58</th>\n",
              "      <td>20191031</td>\n",
              "      <td>50400</td>\n",
              "      <td>2</td>\n",
              "      <td>48900</td>\n",
              "      <td>52500</td>\n",
              "      <td>47350</td>\n",
              "      <td>199451656</td>\n",
              "      <td>9951418133250</td>\n",
              "      <td>1350</td>\n",
              "    </tr>\n",
              "    <tr>\n",
              "      <th>59</th>\n",
              "      <td>20191129</td>\n",
              "      <td>50300</td>\n",
              "      <td>5</td>\n",
              "      <td>50600</td>\n",
              "      <td>53800</td>\n",
              "      <td>50200</td>\n",
              "      <td>223956592</td>\n",
              "      <td>11676998193688</td>\n",
              "      <td>-100</td>\n",
              "    </tr>\n",
              "    <tr>\n",
              "      <th>60</th>\n",
              "      <td>20191230</td>\n",
              "      <td>55800</td>\n",
              "      <td>2</td>\n",
              "      <td>50900</td>\n",
              "      <td>57300</td>\n",
              "      <td>49000</td>\n",
              "      <td>264807425</td>\n",
              "      <td>14176371702782</td>\n",
              "      <td>5500</td>\n",
              "    </tr>\n",
              "  </tbody>\n",
              "</table>\n",
              "<p>61 rows × 9 columns</p>\n",
              "</div>"
            ],
            "text/plain": [
              "       trdDd  trdPrc cmpprevddTpCd  ...  accTrdvol       accTrdval  cmpprevddPrc\n",
              "0   20141230   26540             2  ...    5122154   6710693856326           800\n",
              "1   20150130   27300             2  ...    5260414   7086899072535           760\n",
              "2   20150227   27140             5  ...    3008737   4118363978978          -160\n",
              "3   20150331   28820             2  ...    5598436   8112624535072          1680\n",
              "4   20150430   28200             5  ...    4965983   7142279454911          -620\n",
              "..       ...     ...           ...  ...        ...             ...           ...\n",
              "56  20190830   44000             5  ...  205260271   8996490906761         -1350\n",
              "57  20190930   49050             2  ...  207963296   9804325904255          5050\n",
              "58  20191031   50400             2  ...  199451656   9951418133250          1350\n",
              "59  20191129   50300             5  ...  223956592  11676998193688          -100\n",
              "60  20191230   55800             2  ...  264807425  14176371702782          5500\n",
              "\n",
              "[61 rows x 9 columns]"
            ]
          },
          "metadata": {
            "tags": []
          },
          "execution_count": 7
        }
      ]
    },
    {
      "cell_type": "markdown",
      "metadata": {
        "id": "0zFubXLjEp1W",
        "colab_type": "text"
      },
      "source": [
        "월말의 가격을 시각화하면 다음과 같다. 시장 지수와 비슷한 모양을 보이는 것을 확인할 수 있다."
      ]
    },
    {
      "cell_type": "code",
      "metadata": {
        "id": "HiSO9McDNhae",
        "colab_type": "code",
        "outputId": "89d45f1b-4c23-4a7f-eb84-4f85f77e14a7",
        "colab": {
          "base_uri": "https://localhost:8080/",
          "height": 265
        }
      },
      "source": [
        "df_stock[\"trdPrc\"].plot()\n",
        "plt.show()"
      ],
      "execution_count": 8,
      "outputs": [
        {
          "output_type": "display_data",
          "data": {
            "image/png": "[encoded data removed]",
            "text/plain": [
              "<Figure size 432x288 with 1 Axes>"
            ]
          },
          "metadata": {
            "tags": [],
            "needs_background": "light"
          }
        }
      ]
    },
    {
      "cell_type": "markdown",
      "metadata": {
        "id": "qX-yvt1TEwDd",
        "colab_type": "text"
      },
      "source": [
        "지수와 마찬가지로 60개의 월간 수익률을 계산한다. "
      ]
    },
    {
      "cell_type": "code",
      "metadata": {
        "id": "WB1eeWGtNhdK",
        "colab_type": "code",
        "outputId": "51a9c26f-10f8-4b50-a1d4-a9c4d1512ff3",
        "colab": {
          "base_uri": "https://localhost:8080/",
          "height": 265
        }
      },
      "source": [
        "stock_rets = df_stock[\"trdPrc\"].pct_change().dropna().values\n",
        "plt.plot(stock_rets)\n",
        "plt.show()"
      ],
      "execution_count": 9,
      "outputs": [
        {
          "output_type": "display_data",
          "data": {
            "image/png": "[encoded data removed]",
            "text/plain": [
              "<Figure size 432x288 with 1 Axes>"
            ]
          },
          "metadata": {
            "tags": [],
            "needs_background": "light"
          }
        }
      ]
    },
    {
      "cell_type": "markdown",
      "metadata": {
        "id": "9n4qclVPE7NP",
        "colab_type": "text"
      },
      "source": [
        "자본자산가격모형의 알파와 베타를 계산하기 위해 우선 지수와 주식의 수익률을 하나의 데이터프레임으로 합친다."
      ]
    },
    {
      "cell_type": "code",
      "metadata": {
        "id": "hxjm3ElNeHOj",
        "colab_type": "code",
        "outputId": "fe772989-678b-489d-956b-0dedcac1a774",
        "colab": {
          "base_uri": "https://localhost:8080/",
          "height": 1000
        }
      },
      "source": [
        "df = pd.DataFrame({\"kospi200\": kospi200_rets, \"stock\": stock_rets})\n",
        "df"
      ],
      "execution_count": 10,
      "outputs": [
        {
          "output_type": "execute_result",
          "data": {
            "text/html": [
              "<div>\n",
              "<style scoped>\n",
              "    .dataframe tbody tr th:only-of-type {\n",
              "        vertical-align: middle;\n",
              "    }\n",
              "\n",
              "    .dataframe tbody tr th {\n",
              "        vertical-align: top;\n",
              "    }\n",
              "\n",
              "    .dataframe thead th {\n",
              "        text-align: right;\n",
              "    }\n",
              "</style>\n",
              "<table border=\"1\" class=\"dataframe\">\n",
              "  <thead>\n",
              "    <tr style=\"text-align: right;\">\n",
              "      <th></th>\n",
              "      <th>kospi200</th>\n",
              "      <th>stock</th>\n",
              "    </tr>\n",
              "  </thead>\n",
              "  <tbody>\n",
              "    <tr>\n",
              "      <th>0</th>\n",
              "      <td>0.023889</td>\n",
              "      <td>0.028636</td>\n",
              "    </tr>\n",
              "    <tr>\n",
              "      <th>1</th>\n",
              "      <td>0.006323</td>\n",
              "      <td>-0.005861</td>\n",
              "    </tr>\n",
              "    <tr>\n",
              "      <th>2</th>\n",
              "      <td>0.023145</td>\n",
              "      <td>0.061901</td>\n",
              "    </tr>\n",
              "    <tr>\n",
              "      <th>3</th>\n",
              "      <td>0.035525</td>\n",
              "      <td>-0.021513</td>\n",
              "    </tr>\n",
              "    <tr>\n",
              "      <th>4</th>\n",
              "      <td>-0.022633</td>\n",
              "      <td>-0.073050</td>\n",
              "    </tr>\n",
              "    <tr>\n",
              "      <th>5</th>\n",
              "      <td>-0.031184</td>\n",
              "      <td>-0.029839</td>\n",
              "    </tr>\n",
              "    <tr>\n",
              "      <th>6</th>\n",
              "      <td>-0.031593</td>\n",
              "      <td>-0.065457</td>\n",
              "    </tr>\n",
              "    <tr>\n",
              "      <th>7</th>\n",
              "      <td>-0.047073</td>\n",
              "      <td>-0.081013</td>\n",
              "    </tr>\n",
              "    <tr>\n",
              "      <th>8</th>\n",
              "      <td>0.016796</td>\n",
              "      <td>0.041322</td>\n",
              "    </tr>\n",
              "    <tr>\n",
              "      <th>9</th>\n",
              "      <td>0.053652</td>\n",
              "      <td>0.209877</td>\n",
              "    </tr>\n",
              "    <tr>\n",
              "      <th>10</th>\n",
              "      <td>-0.020729</td>\n",
              "      <td>-0.064140</td>\n",
              "    </tr>\n",
              "    <tr>\n",
              "      <th>11</th>\n",
              "      <td>-0.015804</td>\n",
              "      <td>-0.018692</td>\n",
              "    </tr>\n",
              "    <tr>\n",
              "      <th>12</th>\n",
              "      <td>-0.034445</td>\n",
              "      <td>-0.087302</td>\n",
              "    </tr>\n",
              "    <tr>\n",
              "      <th>13</th>\n",
              "      <td>0.010900</td>\n",
              "      <td>0.024348</td>\n",
              "    </tr>\n",
              "    <tr>\n",
              "      <th>14</th>\n",
              "      <td>0.047863</td>\n",
              "      <td>0.113752</td>\n",
              "    </tr>\n",
              "    <tr>\n",
              "      <th>15</th>\n",
              "      <td>-0.002684</td>\n",
              "      <td>-0.051067</td>\n",
              "    </tr>\n",
              "    <tr>\n",
              "      <th>16</th>\n",
              "      <td>-0.006403</td>\n",
              "      <td>0.037751</td>\n",
              "    </tr>\n",
              "    <tr>\n",
              "      <th>17</th>\n",
              "      <td>0.002093</td>\n",
              "      <td>0.102941</td>\n",
              "    </tr>\n",
              "    <tr>\n",
              "      <th>18</th>\n",
              "      <td>0.030065</td>\n",
              "      <td>0.080000</td>\n",
              "    </tr>\n",
              "    <tr>\n",
              "      <th>19</th>\n",
              "      <td>0.021433</td>\n",
              "      <td>0.052632</td>\n",
              "    </tr>\n",
              "    <tr>\n",
              "      <th>20</th>\n",
              "      <td>0.002414</td>\n",
              "      <td>-0.013580</td>\n",
              "    </tr>\n",
              "    <tr>\n",
              "      <th>21</th>\n",
              "      <td>-0.006058</td>\n",
              "      <td>0.025657</td>\n",
              "    </tr>\n",
              "    <tr>\n",
              "      <th>22</th>\n",
              "      <td>-0.006525</td>\n",
              "      <td>0.065284</td>\n",
              "    </tr>\n",
              "    <tr>\n",
              "      <th>23</th>\n",
              "      <td>0.022615</td>\n",
              "      <td>0.032073</td>\n",
              "    </tr>\n",
              "    <tr>\n",
              "      <th>24</th>\n",
              "      <td>0.031076</td>\n",
              "      <td>0.094895</td>\n",
              "    </tr>\n",
              "    <tr>\n",
              "      <th>25</th>\n",
              "      <td>0.007348</td>\n",
              "      <td>-0.025849</td>\n",
              "    </tr>\n",
              "    <tr>\n",
              "      <th>26</th>\n",
              "      <td>0.039176</td>\n",
              "      <td>0.071800</td>\n",
              "    </tr>\n",
              "    <tr>\n",
              "      <th>27</th>\n",
              "      <td>0.023411</td>\n",
              "      <td>0.083010</td>\n",
              "    </tr>\n",
              "    <tr>\n",
              "      <th>28</th>\n",
              "      <td>0.060792</td>\n",
              "      <td>0.001793</td>\n",
              "    </tr>\n",
              "    <tr>\n",
              "      <th>29</th>\n",
              "      <td>0.023271</td>\n",
              "      <td>0.063535</td>\n",
              "    </tr>\n",
              "    <tr>\n",
              "      <th>30</th>\n",
              "      <td>0.009110</td>\n",
              "      <td>0.013883</td>\n",
              "    </tr>\n",
              "    <tr>\n",
              "      <th>31</th>\n",
              "      <td>-0.020089</td>\n",
              "      <td>-0.039004</td>\n",
              "    </tr>\n",
              "    <tr>\n",
              "      <th>32</th>\n",
              "      <td>0.025918</td>\n",
              "      <td>0.107081</td>\n",
              "    </tr>\n",
              "    <tr>\n",
              "      <th>33</th>\n",
              "      <td>0.054700</td>\n",
              "      <td>0.074103</td>\n",
              "    </tr>\n",
              "    <tr>\n",
              "      <th>34</th>\n",
              "      <td>-0.024942</td>\n",
              "      <td>-0.077705</td>\n",
              "    </tr>\n",
              "    <tr>\n",
              "      <th>35</th>\n",
              "      <td>-0.001568</td>\n",
              "      <td>0.003150</td>\n",
              "    </tr>\n",
              "    <tr>\n",
              "      <th>36</th>\n",
              "      <td>0.026606</td>\n",
              "      <td>-0.020801</td>\n",
              "    </tr>\n",
              "    <tr>\n",
              "      <th>37</th>\n",
              "      <td>-0.061551</td>\n",
              "      <td>-0.056914</td>\n",
              "    </tr>\n",
              "    <tr>\n",
              "      <th>38</th>\n",
              "      <td>0.005594</td>\n",
              "      <td>0.045899</td>\n",
              "    </tr>\n",
              "    <tr>\n",
              "      <th>39</th>\n",
              "      <td>0.028448</td>\n",
              "      <td>0.076798</td>\n",
              "    </tr>\n",
              "    <tr>\n",
              "      <th>40</th>\n",
              "      <td>-0.039065</td>\n",
              "      <td>-0.043396</td>\n",
              "    </tr>\n",
              "    <tr>\n",
              "      <th>41</th>\n",
              "      <td>-0.036215</td>\n",
              "      <td>-0.079882</td>\n",
              "    </tr>\n",
              "    <tr>\n",
              "      <th>42</th>\n",
              "      <td>-0.007375</td>\n",
              "      <td>-0.008574</td>\n",
              "    </tr>\n",
              "    <tr>\n",
              "      <th>43</th>\n",
              "      <td>0.008808</td>\n",
              "      <td>0.047568</td>\n",
              "    </tr>\n",
              "    <tr>\n",
              "      <th>44</th>\n",
              "      <td>0.001466</td>\n",
              "      <td>-0.041280</td>\n",
              "    </tr>\n",
              "    <tr>\n",
              "      <th>45</th>\n",
              "      <td>-0.121460</td>\n",
              "      <td>-0.087191</td>\n",
              "    </tr>\n",
              "    <tr>\n",
              "      <th>46</th>\n",
              "      <td>0.027802</td>\n",
              "      <td>-0.012972</td>\n",
              "    </tr>\n",
              "    <tr>\n",
              "      <th>47</th>\n",
              "      <td>-0.034531</td>\n",
              "      <td>-0.075269</td>\n",
              "    </tr>\n",
              "    <tr>\n",
              "      <th>48</th>\n",
              "      <td>0.091267</td>\n",
              "      <td>0.192506</td>\n",
              "    </tr>\n",
              "    <tr>\n",
              "      <th>49</th>\n",
              "      <td>-0.007311</td>\n",
              "      <td>-0.022752</td>\n",
              "    </tr>\n",
              "    <tr>\n",
              "      <th>50</th>\n",
              "      <td>-0.025793</td>\n",
              "      <td>-0.009978</td>\n",
              "    </tr>\n",
              "    <tr>\n",
              "      <th>51</th>\n",
              "      <td>0.030527</td>\n",
              "      <td>0.026876</td>\n",
              "    </tr>\n",
              "    <tr>\n",
              "      <th>52</th>\n",
              "      <td>-0.073810</td>\n",
              "      <td>-0.073064</td>\n",
              "    </tr>\n",
              "    <tr>\n",
              "      <th>53</th>\n",
              "      <td>0.051575</td>\n",
              "      <td>0.105882</td>\n",
              "    </tr>\n",
              "    <tr>\n",
              "      <th>54</th>\n",
              "      <td>-0.040216</td>\n",
              "      <td>-0.035106</td>\n",
              "    </tr>\n",
              "    <tr>\n",
              "      <th>55</th>\n",
              "      <td>-0.027559</td>\n",
              "      <td>-0.029768</td>\n",
              "    </tr>\n",
              "    <tr>\n",
              "      <th>56</th>\n",
              "      <td>0.056178</td>\n",
              "      <td>0.114773</td>\n",
              "    </tr>\n",
              "    <tr>\n",
              "      <th>57</th>\n",
              "      <td>0.008298</td>\n",
              "      <td>0.027523</td>\n",
              "    </tr>\n",
              "    <tr>\n",
              "      <th>58</th>\n",
              "      <td>0.003481</td>\n",
              "      <td>-0.001984</td>\n",
              "    </tr>\n",
              "    <tr>\n",
              "      <th>59</th>\n",
              "      <td>0.061384</td>\n",
              "      <td>0.109344</td>\n",
              "    </tr>\n",
              "  </tbody>\n",
              "</table>\n",
              "</div>"
            ],
            "text/plain": [
              "    kospi200     stock\n",
              "0   0.023889  0.028636\n",
              "1   0.006323 -0.005861\n",
              "2   0.023145  0.061901\n",
              "3   0.035525 -0.021513\n",
              "4  -0.022633 -0.073050\n",
              "5  -0.031184 -0.029839\n",
              "6  -0.031593 -0.065457\n",
              "7  -0.047073 -0.081013\n",
              "8   0.016796  0.041322\n",
              "9   0.053652  0.209877\n",
              "10 -0.020729 -0.064140\n",
              "11 -0.015804 -0.018692\n",
              "12 -0.034445 -0.087302\n",
              "13  0.010900  0.024348\n",
              "14  0.047863  0.113752\n",
              "15 -0.002684 -0.051067\n",
              "16 -0.006403  0.037751\n",
              "17  0.002093  0.102941\n",
              "18  0.030065  0.080000\n",
              "19  0.021433  0.052632\n",
              "20  0.002414 -0.013580\n",
              "21 -0.006058  0.025657\n",
              "22 -0.006525  0.065284\n",
              "23  0.022615  0.032073\n",
              "24  0.031076  0.094895\n",
              "25  0.007348 -0.025849\n",
              "26  0.039176  0.071800\n",
              "27  0.023411  0.083010\n",
              "28  0.060792  0.001793\n",
              "29  0.023271  0.063535\n",
              "30  0.009110  0.013883\n",
              "31 -0.020089 -0.039004\n",
              "32  0.025918  0.107081\n",
              "33  0.054700  0.074103\n",
              "34 -0.024942 -0.077705\n",
              "35 -0.001568  0.003150\n",
              "36  0.026606 -0.020801\n",
              "37 -0.061551 -0.056914\n",
              "38  0.005594  0.045899\n",
              "39  0.028448  0.076798\n",
              "40 -0.039065 -0.043396\n",
              "41 -0.036215 -0.079882\n",
              "42 -0.007375 -0.008574\n",
              "43  0.008808  0.047568\n",
              "44  0.001466 -0.041280\n",
              "45 -0.121460 -0.087191\n",
              "46  0.027802 -0.012972\n",
              "47 -0.034531 -0.075269\n",
              "48  0.091267  0.192506\n",
              "49 -0.007311 -0.022752\n",
              "50 -0.025793 -0.009978\n",
              "51  0.030527  0.026876\n",
              "52 -0.073810 -0.073064\n",
              "53  0.051575  0.105882\n",
              "54 -0.040216 -0.035106\n",
              "55 -0.027559 -0.029768\n",
              "56  0.056178  0.114773\n",
              "57  0.008298  0.027523\n",
              "58  0.003481 -0.001984\n",
              "59  0.061384  0.109344"
            ]
          },
          "metadata": {
            "tags": []
          },
          "execution_count": 10
        }
      ]
    },
    {
      "cell_type": "markdown",
      "metadata": {
        "id": "Mb680q6PFE4m",
        "colab_type": "text"
      },
      "source": [
        "두 수익률을 스캐터플롯(scatter plot)으로 표시하면 다음과 같이 선형적인 양의 상관관계를 가지는 것을 볼 수 있다. "
      ]
    },
    {
      "cell_type": "code",
      "metadata": {
        "id": "w7RKrcXMdYUz",
        "colab_type": "code",
        "outputId": "bb4bf60c-a1e1-4c4e-f029-eb26e0baacc3",
        "colab": {
          "base_uri": "https://localhost:8080/",
          "height": 279
        }
      },
      "source": [
        "sns.scatterplot(\"kospi200\", \"stock\", data=df)\n",
        "plt.show()"
      ],
      "execution_count": 11,
      "outputs": [
        {
          "output_type": "display_data",
          "data": {
            "image/png": "[encoded data removed]",
            "text/plain": [
              "<Figure size 432x288 with 1 Axes>"
            ]
          },
          "metadata": {
            "tags": [],
            "needs_background": "light"
          }
        }
      ]
    },
    {
      "cell_type": "markdown",
      "metadata": {
        "id": "6L5jFVnImQAe",
        "colab_type": "text"
      },
      "source": [
        "### 금리"
      ]
    },
    {
      "cell_type": "markdown",
      "metadata": {
        "id": "a60O-Xd9FO9N",
        "colab_type": "text"
      },
      "source": [
        "초과 수익률을 구하기 위해서는 초단기 무위험이자율 $R_f$를 알아야 한다. 여기에서는 2014년부터 2019년까지의 CD 91일 금리를 참조하여 \n",
        "\n",
        "$$ R_f = 0.02 \\;\\;(2\\%) $$\n",
        "\n",
        "라고 가정한다."
      ]
    },
    {
      "cell_type": "code",
      "metadata": {
        "id": "H3oC1cmOmQYX",
        "colab_type": "code",
        "colab": {}
      },
      "source": [
        "rf = 0.02"
      ],
      "execution_count": 0,
      "outputs": []
    },
    {
      "cell_type": "markdown",
      "metadata": {
        "id": "0FfTxZntdZIq",
        "colab_type": "text"
      },
      "source": [
        "## 알파, 베타 계산"
      ]
    },
    {
      "cell_type": "markdown",
      "metadata": {
        "id": "BA9AD52EFjP9",
        "colab_type": "text"
      },
      "source": [
        "이제 statsmodels 패키지의 OLS 명령을 사용하여 주식 초과수익률과 시장 초과수익률의 선형회귀분석을 한다."
      ]
    },
    {
      "cell_type": "code",
      "metadata": {
        "id": "BS7plhtrdYXy",
        "colab_type": "code",
        "outputId": "1daa7dcc-bf53-4b20-d9bd-8b242fe5f399",
        "colab": {
          "base_uri": "https://localhost:8080/",
          "height": 467
        }
      },
      "source": [
        "model = sm.OLS.from_formula(\"stock - rf ~ kospi200 - rf\", data=df)\n",
        "result = model.fit()\n",
        "print(result.summary())"
      ],
      "execution_count": 13,
      "outputs": [
        {
          "output_type": "stream",
          "text": [
            "                            OLS Regression Results                            \n",
            "==============================================================================\n",
            "Dep. Variable:                  stock   R-squared:                       0.635\n",
            "Model:                            OLS   Adj. R-squared:                  0.629\n",
            "Method:                 Least Squares   F-statistic:                     100.9\n",
            "Date:                Mon, 27 Apr 2020   Prob (F-statistic):           2.64e-14\n",
            "Time:                        05:38:39   Log-Likelihood:                 105.97\n",
            "No. Observations:                  60   AIC:                            -207.9\n",
            "Df Residuals:                      58   BIC:                            -203.7\n",
            "Df Model:                           1                                         \n",
            "Covariance Type:            nonrobust                                         \n",
            "==============================================================================\n",
            "                 coef    std err          t      P>|t|      [0.025      0.975]\n",
            "------------------------------------------------------------------------------\n",
            "Intercept      0.0091      0.005      1.666      0.101      -0.002       0.020\n",
            "kospi200       1.4915      0.148     10.044      0.000       1.194       1.789\n",
            "==============================================================================\n",
            "Omnibus:                        1.810   Durbin-Watson:                   2.408\n",
            "Prob(Omnibus):                  0.405   Jarque-Bera (JB):                1.050\n",
            "Skew:                           0.230   Prob(JB):                        0.591\n",
            "Kurtosis:                       3.457   Cond. No.                         27.3\n",
            "==============================================================================\n",
            "\n",
            "Warnings:\n",
            "[1] Standard Errors assume that the covariance matrix of the errors is correctly specified.\n"
          ],
          "name": "stdout"
        }
      ]
    },
    {
      "cell_type": "markdown",
      "metadata": {
        "id": "NdCMMUn5F6Zn",
        "colab_type": "text"
      },
      "source": [
        "분석결과를 살펴보면 베타값은 1.49, 알파값은 0.01이 나오지만 유의확률(p value)를 고려하여볼 때 알파값에 대한 유의확률이 10%가 넘기 때문에 알파값은 사실상 0이라고 볼 수 있다.  "
      ]
    },
    {
      "cell_type": "markdown",
      "metadata": {
        "id": "hi_hC4J2QbiR",
        "colab_type": "text"
      },
      "source": [
        "## 유가증권시장 전 종목"
      ]
    },
    {
      "cell_type": "markdown",
      "metadata": {
        "id": "G35yPzf3GShP",
        "colab_type": "text"
      },
      "source": [
        "이번에는 유가증권시장의 모든 종목에 대해 자본자산가격모형을 적용해본다. 우선 코스콤 오픈API를 사용하여 유가증권시장의 종목 목록을 구한다. "
      ]
    },
    {
      "cell_type": "code",
      "metadata": {
        "id": "hASyiPrPJ0Yt",
        "colab_type": "code",
        "outputId": "213521ec-0a7a-4d06-b852-83a6d0343196",
        "colab": {
          "base_uri": "https://localhost:8080/",
          "height": 419
        }
      },
      "source": [
        "url = \"https://apigw.koscom.co.kr/v2/market/stocks/kospi/lists\"\n",
        "queryParams = '?' + urlencode({ quote_plus('apikey') : apikey })\n",
        "response_body = request.urlopen(url + queryParams).read()\n",
        "df_symbols = pd.DataFrame(loads(response_body)[\"isuLists\"])\n",
        "df_symbols = df_symbols[df_symbols.isuCd.str.startswith(\"KR7\")].reset_index(drop=True)\n",
        "df_symbols"
      ],
      "execution_count": 14,
      "outputs": [
        {
          "output_type": "execute_result",
          "data": {
            "text/html": [
              "<div>\n",
              "<style scoped>\n",
              "    .dataframe tbody tr th:only-of-type {\n",
              "        vertical-align: middle;\n",
              "    }\n",
              "\n",
              "    .dataframe tbody tr th {\n",
              "        vertical-align: top;\n",
              "    }\n",
              "\n",
              "    .dataframe thead th {\n",
              "        text-align: right;\n",
              "    }\n",
              "</style>\n",
              "<table border=\"1\" class=\"dataframe\">\n",
              "  <thead>\n",
              "    <tr style=\"text-align: right;\">\n",
              "      <th></th>\n",
              "      <th>isuSrtCd</th>\n",
              "      <th>isuCd</th>\n",
              "      <th>isuKorNm</th>\n",
              "      <th>isuKorAbbr</th>\n",
              "      <th>map_to</th>\n",
              "    </tr>\n",
              "  </thead>\n",
              "  <tbody>\n",
              "    <tr>\n",
              "      <th>0</th>\n",
              "      <td>000020</td>\n",
              "      <td>KR7000020008</td>\n",
              "      <td>동화약품</td>\n",
              "      <td>동화약품</td>\n",
              "      <td>000020*001</td>\n",
              "    </tr>\n",
              "    <tr>\n",
              "      <th>1</th>\n",
              "      <td>000040</td>\n",
              "      <td>KR7000040006</td>\n",
              "      <td>KR모터스</td>\n",
              "      <td>KR모터스</td>\n",
              "      <td>000040*001</td>\n",
              "    </tr>\n",
              "    <tr>\n",
              "      <th>2</th>\n",
              "      <td>000050</td>\n",
              "      <td>KR7000050005</td>\n",
              "      <td>경방</td>\n",
              "      <td>경방</td>\n",
              "      <td>000050*001</td>\n",
              "    </tr>\n",
              "    <tr>\n",
              "      <th>3</th>\n",
              "      <td>000060</td>\n",
              "      <td>KR7000060004</td>\n",
              "      <td>메리츠화재</td>\n",
              "      <td>메리츠화재</td>\n",
              "      <td>000060*001</td>\n",
              "    </tr>\n",
              "    <tr>\n",
              "      <th>4</th>\n",
              "      <td>000070</td>\n",
              "      <td>KR7000070003</td>\n",
              "      <td>삼양홀딩스</td>\n",
              "      <td>삼양홀딩스</td>\n",
              "      <td>000070*001</td>\n",
              "    </tr>\n",
              "    <tr>\n",
              "      <th>...</th>\n",
              "      <td>...</td>\n",
              "      <td>...</td>\n",
              "      <td>...</td>\n",
              "      <td>...</td>\n",
              "      <td>...</td>\n",
              "    </tr>\n",
              "    <tr>\n",
              "      <th>1355</th>\n",
              "      <td>342600</td>\n",
              "      <td>KR7342600004</td>\n",
              "      <td>KBSTAR KRX국채선물3년10년스티프너2X</td>\n",
              "      <td>KBSTAR KRX국채선물3년10년스티프너2X</td>\n",
              "      <td>342600*001</td>\n",
              "    </tr>\n",
              "    <tr>\n",
              "      <th>1356</th>\n",
              "      <td>342610</td>\n",
              "      <td>KR7342610003</td>\n",
              "      <td>KBSTAR KRX국채선물3년10년플래트너</td>\n",
              "      <td>KBSTAR KRX국채선물3년10년플래트너</td>\n",
              "      <td>342610*001</td>\n",
              "    </tr>\n",
              "    <tr>\n",
              "      <th>1357</th>\n",
              "      <td>342620</td>\n",
              "      <td>KR7342620002</td>\n",
              "      <td>KBSTAR KRX국채선물3년10년플래트너2X</td>\n",
              "      <td>KBSTAR KRX국채선물3년10년플래트너2X</td>\n",
              "      <td>342620*001</td>\n",
              "    </tr>\n",
              "    <tr>\n",
              "      <th>1358</th>\n",
              "      <td>344820</td>\n",
              "      <td>KR7344820006</td>\n",
              "      <td>케이씨씨글라스</td>\n",
              "      <td>케이씨씨글라스</td>\n",
              "      <td>344820*001</td>\n",
              "    </tr>\n",
              "    <tr>\n",
              "      <th>1359</th>\n",
              "      <td>346000</td>\n",
              "      <td>KR7346000003</td>\n",
              "      <td>HANARO KAP초장기국고채</td>\n",
              "      <td>HANARO KAP초장기국고채</td>\n",
              "      <td>346000*001</td>\n",
              "    </tr>\n",
              "  </tbody>\n",
              "</table>\n",
              "<p>1360 rows × 5 columns</p>\n",
              "</div>"
            ],
            "text/plain": [
              "     isuSrtCd         isuCd  ...                 isuKorAbbr      map_to\n",
              "0      000020  KR7000020008  ...                       동화약품  000020*001\n",
              "1      000040  KR7000040006  ...                      KR모터스  000040*001\n",
              "2      000050  KR7000050005  ...                         경방  000050*001\n",
              "3      000060  KR7000060004  ...                      메리츠화재  000060*001\n",
              "4      000070  KR7000070003  ...                      삼양홀딩스  000070*001\n",
              "...       ...           ...  ...                        ...         ...\n",
              "1355   342600  KR7342600004  ...  KBSTAR KRX국채선물3년10년스티프너2X  342600*001\n",
              "1356   342610  KR7342610003  ...    KBSTAR KRX국채선물3년10년플래트너  342610*001\n",
              "1357   342620  KR7342620002  ...  KBSTAR KRX국채선물3년10년플래트너2X  342620*001\n",
              "1358   344820  KR7344820006  ...                    케이씨씨글라스  344820*001\n",
              "1359   346000  KR7346000003  ...           HANARO KAP초장기국고채  346000*001\n",
              "\n",
              "[1360 rows x 5 columns]"
            ]
          },
          "metadata": {
            "tags": []
          },
          "execution_count": 14
        }
      ]
    },
    {
      "cell_type": "markdown",
      "metadata": {
        "id": "ldUb40xOGhLt",
        "colab_type": "text"
      },
      "source": [
        "이 데이터프레임의 각 행 즉, 각 종목에 대해 알파, 베타 등을 구하는 코드를 다음과 같이 함수로 구현한다."
      ]
    },
    {
      "cell_type": "code",
      "metadata": {
        "id": "wwf61sQeMAkE",
        "colab_type": "code",
        "colab": {}
      },
      "source": [
        "def calc_beta(x):\n",
        "  code = x[\"isuSrtCd\"]\n",
        "  url = \"https://apigw.koscom.co.kr/v2/market/stocks/kospi/{code}/history\".format(code=code)\n",
        "  queryParams = '?' + urlencode({ quote_plus('trnsmCycleTpCd') : 'M' ,quote_plus('inqStrtDd') : '20141201' ,quote_plus('inqEndDd') : '20191231' ,quote_plus('reqCnt') : '61' ,quote_plus('apikey') : apikey  })\n",
        "  try:\n",
        "    response = request.urlopen(url + queryParams, timeout=1)\n",
        "    response_body =  response.read()\n",
        "    df_stock = pd.DataFrame(loads(response_body)[\"result\"][\"hisLists\"]).sort_values(\"trdDd\").reset_index(drop=True)\n",
        "    stock_rets = df_stock[\"trdPrc\"].pct_change().dropna().values\n",
        "    df = pd.DataFrame({\"kospi200\": kospi200_rets, \"stock\": stock_rets})\n",
        "    model = sm.OLS.from_formula(\"stock - rf ~ kospi200 - rf\", data=df)\n",
        "    result = model.fit()\n",
        "    return (code, result.params[\"kospi200\"], result.params[\"Intercept\"], result.rsquared, result.resid.std(), result.pvalues[\"kospi200\"], result.pvalues[\"Intercept\"],\n",
        "            2 / 3 * result.params[\"kospi200\"] + 1 / 3)\n",
        "  except Exception:\n",
        "    return (code, None, None, None, None, None, None, None)"
      ],
      "execution_count": 0,
      "outputs": []
    },
    {
      "cell_type": "markdown",
      "metadata": {
        "id": "PJZBS2AzGxps",
        "colab_type": "text"
      },
      "source": [
        "데이터프레임의 `apply` 메서드를 사용하여 전 종목에 대해 데이터를 다운로드하고 회귀분석을 실시한다.  구글 코랩을 사용하는 경우 약 15분이 걸렸다. "
      ]
    },
    {
      "cell_type": "code",
      "metadata": {
        "id": "8i7ZzZMGg0aQ",
        "colab_type": "code",
        "outputId": "b162ffed-66eb-4e48-f6b4-d1fdbd22b3be",
        "colab": {
          "base_uri": "https://localhost:8080/",
          "height": 53
        }
      },
      "source": [
        "%%time\n",
        "df_beta = df_symbols.apply(calc_beta, axis=1, result_type='expand')"
      ],
      "execution_count": 16,
      "outputs": [
        {
          "output_type": "stream",
          "text": [
            "CPU times: user 19.5 s, sys: 805 ms, total: 20.3 s\n",
            "Wall time: 17min 44s\n"
          ],
          "name": "stdout"
        }
      ]
    },
    {
      "cell_type": "markdown",
      "metadata": {
        "id": "rewsIt1MHF4V",
        "colab_type": "text"
      },
      "source": [
        "이 방법으로 구한 각 종목의 알파와 베타의 값은 다음 데이터프레임과 같다. 데이터프레임에서 R2는 결정계수(coefficient of determination)으로 자본자산가격모형의 설명력을 뜻한다. 1에 가까울수록 설명력이 높다는 의미다. resid_sd는 비체계적 위험의 크기다. beta_p와 alpha_p는 각각 베타와 알파의 유의확률이다. 유의확률이 0에 가까울수록 진실된 값이 0이 아닐 가능성이 높아진다. adj_beta는 베이즈 추정방법에 의해 수정한 조정베타값이다."
      ]
    },
    {
      "cell_type": "code",
      "metadata": {
        "id": "xyIIapX_hyWn",
        "colab_type": "code",
        "outputId": "e0239b55-e286-4e36-fc7a-9b3c76c223e8",
        "colab": {
          "base_uri": "https://localhost:8080/",
          "height": 419
        }
      },
      "source": [
        "df_beta = df_beta.rename(columns={0: 'isuSrtCd', 1: \"beta\", 2: \"alpha\", 3: \"R2\", 4: \"resid_sd\", 5: \"beta_p\", 6: \"alpha_p\", 7: \"adj_beta\"})\n",
        "df_beta = df_beta.dropna().reset_index(drop=True)\n",
        "df_beta"
      ],
      "execution_count": 17,
      "outputs": [
        {
          "output_type": "execute_result",
          "data": {
            "text/html": [
              "<div>\n",
              "<style scoped>\n",
              "    .dataframe tbody tr th:only-of-type {\n",
              "        vertical-align: middle;\n",
              "    }\n",
              "\n",
              "    .dataframe tbody tr th {\n",
              "        vertical-align: top;\n",
              "    }\n",
              "\n",
              "    .dataframe thead th {\n",
              "        text-align: right;\n",
              "    }\n",
              "</style>\n",
              "<table border=\"1\" class=\"dataframe\">\n",
              "  <thead>\n",
              "    <tr style=\"text-align: right;\">\n",
              "      <th></th>\n",
              "      <th>isuSrtCd</th>\n",
              "      <th>beta</th>\n",
              "      <th>alpha</th>\n",
              "      <th>R2</th>\n",
              "      <th>resid_sd</th>\n",
              "      <th>beta_p</th>\n",
              "      <th>alpha_p</th>\n",
              "      <th>adj_beta</th>\n",
              "    </tr>\n",
              "  </thead>\n",
              "  <tbody>\n",
              "    <tr>\n",
              "      <th>0</th>\n",
              "      <td>000020</td>\n",
              "      <td>0.593105</td>\n",
              "      <td>0.007834</td>\n",
              "      <td>0.069910</td>\n",
              "      <td>0.079816</td>\n",
              "      <td>4.120331e-02</td>\n",
              "      <td>0.456393</td>\n",
              "      <td>0.728737</td>\n",
              "    </tr>\n",
              "    <tr>\n",
              "      <th>1</th>\n",
              "      <td>000040</td>\n",
              "      <td>0.499262</td>\n",
              "      <td>-0.023518</td>\n",
              "      <td>0.025299</td>\n",
              "      <td>0.114336</td>\n",
              "      <td>2.247989e-01</td>\n",
              "      <td>0.121529</td>\n",
              "      <td>0.666175</td>\n",
              "    </tr>\n",
              "    <tr>\n",
              "      <th>2</th>\n",
              "      <td>000050</td>\n",
              "      <td>0.678679</td>\n",
              "      <td>-0.010811</td>\n",
              "      <td>0.099834</td>\n",
              "      <td>0.075189</td>\n",
              "      <td>1.391972e-02</td>\n",
              "      <td>0.276560</td>\n",
              "      <td>0.785786</td>\n",
              "    </tr>\n",
              "    <tr>\n",
              "      <th>3</th>\n",
              "      <td>000060</td>\n",
              "      <td>0.570148</td>\n",
              "      <td>0.006269</td>\n",
              "      <td>0.087167</td>\n",
              "      <td>0.068073</td>\n",
              "      <td>2.201377e-02</td>\n",
              "      <td>0.484499</td>\n",
              "      <td>0.713432</td>\n",
              "    </tr>\n",
              "    <tr>\n",
              "      <th>4</th>\n",
              "      <td>000070</td>\n",
              "      <td>0.147955</td>\n",
              "      <td>0.005497</td>\n",
              "      <td>0.000952</td>\n",
              "      <td>0.176878</td>\n",
              "      <td>8.150078e-01</td>\n",
              "      <td>0.813156</td>\n",
              "      <td>0.431970</td>\n",
              "    </tr>\n",
              "    <tr>\n",
              "      <th>...</th>\n",
              "      <td>...</td>\n",
              "      <td>...</td>\n",
              "      <td>...</td>\n",
              "      <td>...</td>\n",
              "      <td>...</td>\n",
              "      <td>...</td>\n",
              "      <td>...</td>\n",
              "      <td>...</td>\n",
              "    </tr>\n",
              "    <tr>\n",
              "      <th>925</th>\n",
              "      <td>210780</td>\n",
              "      <td>0.675851</td>\n",
              "      <td>0.001258</td>\n",
              "      <td>0.579811</td>\n",
              "      <td>0.021227</td>\n",
              "      <td>1.627429e-12</td>\n",
              "      <td>0.652371</td>\n",
              "      <td>0.783901</td>\n",
              "    </tr>\n",
              "    <tr>\n",
              "      <th>926</th>\n",
              "      <td>211210</td>\n",
              "      <td>0.637856</td>\n",
              "      <td>0.001746</td>\n",
              "      <td>0.522157</td>\n",
              "      <td>0.022513</td>\n",
              "      <td>7.117547e-11</td>\n",
              "      <td>0.555798</td>\n",
              "      <td>0.758571</td>\n",
              "    </tr>\n",
              "    <tr>\n",
              "      <th>927</th>\n",
              "      <td>211260</td>\n",
              "      <td>0.702900</td>\n",
              "      <td>0.000514</td>\n",
              "      <td>0.461457</td>\n",
              "      <td>0.028016</td>\n",
              "      <td>2.418720e-09</td>\n",
              "      <td>0.889064</td>\n",
              "      <td>0.801934</td>\n",
              "    </tr>\n",
              "    <tr>\n",
              "      <th>928</th>\n",
              "      <td>211560</td>\n",
              "      <td>0.696575</td>\n",
              "      <td>0.000789</td>\n",
              "      <td>0.446766</td>\n",
              "      <td>0.028599</td>\n",
              "      <td>5.359305e-09</td>\n",
              "      <td>0.833840</td>\n",
              "      <td>0.797717</td>\n",
              "    </tr>\n",
              "    <tr>\n",
              "      <th>929</th>\n",
              "      <td>211900</td>\n",
              "      <td>0.702031</td>\n",
              "      <td>0.000582</td>\n",
              "      <td>0.465415</td>\n",
              "      <td>0.027760</td>\n",
              "      <td>1.945224e-09</td>\n",
              "      <td>0.873359</td>\n",
              "      <td>0.801354</td>\n",
              "    </tr>\n",
              "  </tbody>\n",
              "</table>\n",
              "<p>930 rows × 8 columns</p>\n",
              "</div>"
            ],
            "text/plain": [
              "    isuSrtCd      beta     alpha  ...        beta_p   alpha_p  adj_beta\n",
              "0     000020  0.593105  0.007834  ...  4.120331e-02  0.456393  0.728737\n",
              "1     000040  0.499262 -0.023518  ...  2.247989e-01  0.121529  0.666175\n",
              "2     000050  0.678679 -0.010811  ...  1.391972e-02  0.276560  0.785786\n",
              "3     000060  0.570148  0.006269  ...  2.201377e-02  0.484499  0.713432\n",
              "4     000070  0.147955  0.005497  ...  8.150078e-01  0.813156  0.431970\n",
              "..       ...       ...       ...  ...           ...       ...       ...\n",
              "925   210780  0.675851  0.001258  ...  1.627429e-12  0.652371  0.783901\n",
              "926   211210  0.637856  0.001746  ...  7.117547e-11  0.555798  0.758571\n",
              "927   211260  0.702900  0.000514  ...  2.418720e-09  0.889064  0.801934\n",
              "928   211560  0.696575  0.000789  ...  5.359305e-09  0.833840  0.797717\n",
              "929   211900  0.702031  0.000582  ...  1.945224e-09  0.873359  0.801354\n",
              "\n",
              "[930 rows x 8 columns]"
            ]
          },
          "metadata": {
            "tags": []
          },
          "execution_count": 17
        }
      ]
    },
    {
      "cell_type": "markdown",
      "metadata": {
        "id": "0huT5Pm1Jj4M",
        "colab_type": "text"
      },
      "source": [
        "모형의 설명력을 뜻하는 결정계수의 값을 살펴보면 \n",
        "평균 결정계수의 값은 약 0.2이다. 즉, 설명력이 작기는 하지만 모형이 성립하고 있다는 것을 확인할 수 있다."
      ]
    },
    {
      "cell_type": "code",
      "metadata": {
        "id": "DBM4IzrtJEEO",
        "colab_type": "code",
        "colab": {
          "base_uri": "https://localhost:8080/",
          "height": 283
        },
        "outputId": "6c7011db-2493-46a9-b876-0af50ef1888b"
      },
      "source": [
        "sns.distplot(df_beta.R2)\n",
        "plt.vlines(df_beta.R2.mean(), 0, 1)\n",
        "plt.ylim(0, 1)\n",
        "plt.show()"
      ],
      "execution_count": 18,
      "outputs": [
        {
          "output_type": "display_data",
          "data": {
            "image/png": "[encoded data removed]",
            "text/plain": [
              "<Figure size 432x288 with 1 Axes>"
            ]
          },
          "metadata": {
            "tags": [],
            "needs_background": "light"
          }
        }
      ]
    },
    {
      "cell_type": "markdown",
      "metadata": {
        "id": "fHPAQ2okJyYr",
        "colab_type": "text"
      },
      "source": [
        "베타의 값의 분포를 살펴보면 1을 중심으로 거의 대칭분포되어 있는 것을 볼 수 있다. "
      ]
    },
    {
      "cell_type": "code",
      "metadata": {
        "id": "69iG0Ur3l-In",
        "colab_type": "code",
        "outputId": "708b8282-73a9-416a-f62c-ade523df6c38",
        "colab": {
          "base_uri": "https://localhost:8080/",
          "height": 283
        }
      },
      "source": [
        "sns.distplot(df_beta.beta)\n",
        "plt.vlines(df_beta.adj_beta.mean(), 0, 1)\n",
        "plt.ylim(0, 1)\n",
        "plt.show()"
      ],
      "execution_count": 19,
      "outputs": [
        {
          "output_type": "display_data",
          "data": {
            "image/png": "[encoded data removed]",
            "text/plain": [
              "<Figure size 432x288 with 1 Axes>"
            ]
          },
          "metadata": {
            "tags": [],
            "needs_background": "light"
          }
        }
      ]
    },
    {
      "cell_type": "markdown",
      "metadata": {
        "id": "xOR6H1S2J6bE",
        "colab_type": "text"
      },
      "source": [
        "## 알파 주식의 검색"
      ]
    },
    {
      "cell_type": "markdown",
      "metadata": {
        "id": "0_u_Ye6bJ9n7",
        "colab_type": "text"
      },
      "source": [
        "그러면 시장 초과수익률에 비해 종목 초과수익률이 유의하게 높은 종목을 검색해 보자. 알파의 유의확률이 1%보다 적으면서 알파값이 양수인 종목을 검색하면 다음과 같다. "
      ]
    },
    {
      "cell_type": "code",
      "metadata": {
        "id": "WOeI7Y-77yHv",
        "colab_type": "code",
        "outputId": "399cb44e-5cd2-4f6e-a6a1-673cb5aa7a38",
        "colab": {
          "base_uri": "https://localhost:8080/",
          "height": 576
        }
      },
      "source": [
        "df_alpha = df_beta[(df_beta.alpha_p < 0.01) & (df_beta.alpha > 0)].reset_index(drop=True)\n",
        "pd.merge(df_symbols, df_alpha)"
      ],
      "execution_count": 20,
      "outputs": [
        {
          "output_type": "execute_result",
          "data": {
            "text/html": [
              "<div>\n",
              "<style scoped>\n",
              "    .dataframe tbody tr th:only-of-type {\n",
              "        vertical-align: middle;\n",
              "    }\n",
              "\n",
              "    .dataframe tbody tr th {\n",
              "        vertical-align: top;\n",
              "    }\n",
              "\n",
              "    .dataframe thead th {\n",
              "        text-align: right;\n",
              "    }\n",
              "</style>\n",
              "<table border=\"1\" class=\"dataframe\">\n",
              "  <thead>\n",
              "    <tr style=\"text-align: right;\">\n",
              "      <th></th>\n",
              "      <th>isuSrtCd</th>\n",
              "      <th>isuCd</th>\n",
              "      <th>isuKorNm</th>\n",
              "      <th>isuKorAbbr</th>\n",
              "      <th>map_to</th>\n",
              "      <th>beta</th>\n",
              "      <th>alpha</th>\n",
              "      <th>R2</th>\n",
              "      <th>resid_sd</th>\n",
              "      <th>beta_p</th>\n",
              "      <th>alpha_p</th>\n",
              "      <th>adj_beta</th>\n",
              "    </tr>\n",
              "  </thead>\n",
              "  <tbody>\n",
              "    <tr>\n",
              "      <th>0</th>\n",
              "      <td>088980</td>\n",
              "      <td>KR7088980008</td>\n",
              "      <td>맥쿼리인프라</td>\n",
              "      <td>맥쿼리인프라</td>\n",
              "      <td>088980*001</td>\n",
              "      <td>0.044062</td>\n",
              "      <td>0.008951</td>\n",
              "      <td>0.004249</td>\n",
              "      <td>0.024887</td>\n",
              "      <td>6.207378e-01</td>\n",
              "      <td>7.982631e-03</td>\n",
              "      <td>0.362708</td>\n",
              "    </tr>\n",
              "    <tr>\n",
              "      <th>1</th>\n",
              "      <td>114100</td>\n",
              "      <td>KR7114100001</td>\n",
              "      <td>KBSTAR 국고채3년</td>\n",
              "      <td>KBSTAR 국고채3년</td>\n",
              "      <td>114100*001</td>\n",
              "      <td>-0.023129</td>\n",
              "      <td>0.001514</td>\n",
              "      <td>0.058876</td>\n",
              "      <td>0.003412</td>\n",
              "      <td>6.176233e-02</td>\n",
              "      <td>1.260245e-03</td>\n",
              "      <td>0.317914</td>\n",
              "    </tr>\n",
              "    <tr>\n",
              "      <th>2</th>\n",
              "      <td>114260</td>\n",
              "      <td>KR7114260003</td>\n",
              "      <td>KODEX 국고채3년</td>\n",
              "      <td>KODEX 국고채3년</td>\n",
              "      <td>114260*001</td>\n",
              "      <td>-0.022104</td>\n",
              "      <td>0.001403</td>\n",
              "      <td>0.055744</td>\n",
              "      <td>0.003356</td>\n",
              "      <td>6.934966e-02</td>\n",
              "      <td>2.277606e-03</td>\n",
              "      <td>0.318597</td>\n",
              "    </tr>\n",
              "    <tr>\n",
              "      <th>3</th>\n",
              "      <td>114460</td>\n",
              "      <td>KR7114460009</td>\n",
              "      <td>KINDEX 중기국고채</td>\n",
              "      <td>KINDEX 중기국고채</td>\n",
              "      <td>114460*001</td>\n",
              "      <td>-0.023162</td>\n",
              "      <td>0.001435</td>\n",
              "      <td>0.063758</td>\n",
              "      <td>0.003275</td>\n",
              "      <td>5.160578e-02</td>\n",
              "      <td>1.436120e-03</td>\n",
              "      <td>0.317892</td>\n",
              "    </tr>\n",
              "    <tr>\n",
              "      <th>4</th>\n",
              "      <td>114470</td>\n",
              "      <td>KR7114470008</td>\n",
              "      <td>KOSEF 국고채3년</td>\n",
              "      <td>KOSEF 국고채3년</td>\n",
              "      <td>114470*001</td>\n",
              "      <td>-0.024007</td>\n",
              "      <td>0.001488</td>\n",
              "      <td>0.063465</td>\n",
              "      <td>0.003403</td>\n",
              "      <td>5.216408e-02</td>\n",
              "      <td>1.465729e-03</td>\n",
              "      <td>0.317328</td>\n",
              "    </tr>\n",
              "    <tr>\n",
              "      <th>5</th>\n",
              "      <td>114820</td>\n",
              "      <td>KR7114820004</td>\n",
              "      <td>TIGER 국채3년</td>\n",
              "      <td>TIGER 국채3년</td>\n",
              "      <td>114820*001</td>\n",
              "      <td>-0.021489</td>\n",
              "      <td>0.001430</td>\n",
              "      <td>0.049717</td>\n",
              "      <td>0.003466</td>\n",
              "      <td>8.681670e-02</td>\n",
              "      <td>2.572447e-03</td>\n",
              "      <td>0.319007</td>\n",
              "    </tr>\n",
              "    <tr>\n",
              "      <th>6</th>\n",
              "      <td>122260</td>\n",
              "      <td>KR7122260003</td>\n",
              "      <td>KOSEF 통안채1년</td>\n",
              "      <td>KOSEF 통안채1년</td>\n",
              "      <td>122260*001</td>\n",
              "      <td>-0.005916</td>\n",
              "      <td>0.001443</td>\n",
              "      <td>0.044060</td>\n",
              "      <td>0.001017</td>\n",
              "      <td>1.074621e-01</td>\n",
              "      <td>1.442145e-15</td>\n",
              "      <td>0.329389</td>\n",
              "    </tr>\n",
              "    <tr>\n",
              "      <th>7</th>\n",
              "      <td>130730</td>\n",
              "      <td>KR7130730005</td>\n",
              "      <td>KOSEF 단기자금</td>\n",
              "      <td>KOSEF 단기자금</td>\n",
              "      <td>130730*001</td>\n",
              "      <td>-0.001019</td>\n",
              "      <td>0.001309</td>\n",
              "      <td>0.005513</td>\n",
              "      <td>0.000505</td>\n",
              "      <td>5.728810e-01</td>\n",
              "      <td>1.702395e-27</td>\n",
              "      <td>0.332654</td>\n",
              "    </tr>\n",
              "    <tr>\n",
              "      <th>8</th>\n",
              "      <td>136340</td>\n",
              "      <td>KR7136340007</td>\n",
              "      <td>KBSTAR 중기우량회사채</td>\n",
              "      <td>KBSTAR 중기우량회사채</td>\n",
              "      <td>136340*001</td>\n",
              "      <td>-0.005795</td>\n",
              "      <td>0.001594</td>\n",
              "      <td>0.002806</td>\n",
              "      <td>0.004030</td>\n",
              "      <td>6.876818e-01</td>\n",
              "      <td>3.743282e-03</td>\n",
              "      <td>0.329470</td>\n",
              "    </tr>\n",
              "    <tr>\n",
              "      <th>9</th>\n",
              "      <td>153130</td>\n",
              "      <td>KR7153130000</td>\n",
              "      <td>KODEX 단기채권</td>\n",
              "      <td>KODEX 단기채권</td>\n",
              "      <td>153130*001</td>\n",
              "      <td>-0.001993</td>\n",
              "      <td>0.001263</td>\n",
              "      <td>0.024706</td>\n",
              "      <td>0.000462</td>\n",
              "      <td>2.303752e-01</td>\n",
              "      <td>1.157032e-28</td>\n",
              "      <td>0.332005</td>\n",
              "    </tr>\n",
              "    <tr>\n",
              "      <th>10</th>\n",
              "      <td>157450</td>\n",
              "      <td>KR7157450008</td>\n",
              "      <td>TIGER 단기통안채</td>\n",
              "      <td>TIGER 단기통안채</td>\n",
              "      <td>157450*001</td>\n",
              "      <td>-0.000543</td>\n",
              "      <td>0.001208</td>\n",
              "      <td>0.006541</td>\n",
              "      <td>0.000247</td>\n",
              "      <td>5.390062e-01</td>\n",
              "      <td>2.894329e-42</td>\n",
              "      <td>0.332971</td>\n",
              "    </tr>\n",
              "    <tr>\n",
              "      <th>11</th>\n",
              "      <td>176710</td>\n",
              "      <td>KR7176710002</td>\n",
              "      <td>파워 중기국고채</td>\n",
              "      <td>파워 중기국고채</td>\n",
              "      <td>176710*001</td>\n",
              "      <td>-0.024127</td>\n",
              "      <td>0.001194</td>\n",
              "      <td>0.065242</td>\n",
              "      <td>0.003369</td>\n",
              "      <td>4.887319e-02</td>\n",
              "      <td>8.925667e-03</td>\n",
              "      <td>0.317249</td>\n",
              "    </tr>\n",
              "    <tr>\n",
              "      <th>12</th>\n",
              "      <td>183700</td>\n",
              "      <td>KR7183700004</td>\n",
              "      <td>KBSTAR 채권혼합</td>\n",
              "      <td>KBSTAR 채권혼합</td>\n",
              "      <td>183700*001</td>\n",
              "      <td>0.294916</td>\n",
              "      <td>0.001528</td>\n",
              "      <td>0.925384</td>\n",
              "      <td>0.003090</td>\n",
              "      <td>2.221716e-34</td>\n",
              "      <td>3.746442e-04</td>\n",
              "      <td>0.529944</td>\n",
              "    </tr>\n",
              "    <tr>\n",
              "      <th>13</th>\n",
              "      <td>183710</td>\n",
              "      <td>KR7183710003</td>\n",
              "      <td>KBSTAR 주식혼합</td>\n",
              "      <td>KBSTAR 주식혼합</td>\n",
              "      <td>183710*001</td>\n",
              "      <td>0.718174</td>\n",
              "      <td>0.001284</td>\n",
              "      <td>0.982907</td>\n",
              "      <td>0.003494</td>\n",
              "      <td>5.935272e-53</td>\n",
              "      <td>6.790522e-03</td>\n",
              "      <td>0.812116</td>\n",
              "    </tr>\n",
              "    <tr>\n",
              "      <th>14</th>\n",
              "      <td>190160</td>\n",
              "      <td>KR7190160002</td>\n",
              "      <td>ARIRANG 단기유동성</td>\n",
              "      <td>ARIRANG 단기유동성</td>\n",
              "      <td>190160*001</td>\n",
              "      <td>-0.001668</td>\n",
              "      <td>0.001313</td>\n",
              "      <td>0.015061</td>\n",
              "      <td>0.000498</td>\n",
              "      <td>3.502235e-01</td>\n",
              "      <td>7.115127e-28</td>\n",
              "      <td>0.332221</td>\n",
              "    </tr>\n",
              "    <tr>\n",
              "      <th>15</th>\n",
              "      <td>190620</td>\n",
              "      <td>KR7190620005</td>\n",
              "      <td>KINDEX 단기통안채</td>\n",
              "      <td>KINDEX 단기통안채</td>\n",
              "      <td>190620*001</td>\n",
              "      <td>-0.000816</td>\n",
              "      <td>0.001237</td>\n",
              "      <td>0.009499</td>\n",
              "      <td>0.000307</td>\n",
              "      <td>4.588001e-01</td>\n",
              "      <td>1.348874e-37</td>\n",
              "      <td>0.332789</td>\n",
              "    </tr>\n",
              "    <tr>\n",
              "      <th>16</th>\n",
              "      <td>196230</td>\n",
              "      <td>KR7196230007</td>\n",
              "      <td>KBSTAR 단기통안채</td>\n",
              "      <td>KBSTAR 단기통안채</td>\n",
              "      <td>196230*001</td>\n",
              "      <td>-0.001391</td>\n",
              "      <td>0.001277</td>\n",
              "      <td>0.013794</td>\n",
              "      <td>0.000434</td>\n",
              "      <td>3.714852e-01</td>\n",
              "      <td>2.506632e-30</td>\n",
              "      <td>0.332406</td>\n",
              "    </tr>\n",
              "  </tbody>\n",
              "</table>\n",
              "</div>"
            ],
            "text/plain": [
              "   isuSrtCd         isuCd        isuKorNm  ...        beta_p       alpha_p  adj_beta\n",
              "0    088980  KR7088980008          맥쿼리인프라  ...  6.207378e-01  7.982631e-03  0.362708\n",
              "1    114100  KR7114100001    KBSTAR 국고채3년  ...  6.176233e-02  1.260245e-03  0.317914\n",
              "2    114260  KR7114260003     KODEX 국고채3년  ...  6.934966e-02  2.277606e-03  0.318597\n",
              "3    114460  KR7114460009    KINDEX 중기국고채  ...  5.160578e-02  1.436120e-03  0.317892\n",
              "4    114470  KR7114470008     KOSEF 국고채3년  ...  5.216408e-02  1.465729e-03  0.317328\n",
              "5    114820  KR7114820004      TIGER 국채3년  ...  8.681670e-02  2.572447e-03  0.319007\n",
              "6    122260  KR7122260003     KOSEF 통안채1년  ...  1.074621e-01  1.442145e-15  0.329389\n",
              "7    130730  KR7130730005      KOSEF 단기자금  ...  5.728810e-01  1.702395e-27  0.332654\n",
              "8    136340  KR7136340007  KBSTAR 중기우량회사채  ...  6.876818e-01  3.743282e-03  0.329470\n",
              "9    153130  KR7153130000      KODEX 단기채권  ...  2.303752e-01  1.157032e-28  0.332005\n",
              "10   157450  KR7157450008     TIGER 단기통안채  ...  5.390062e-01  2.894329e-42  0.332971\n",
              "11   176710  KR7176710002        파워 중기국고채  ...  4.887319e-02  8.925667e-03  0.317249\n",
              "12   183700  KR7183700004     KBSTAR 채권혼합  ...  2.221716e-34  3.746442e-04  0.529944\n",
              "13   183710  KR7183710003     KBSTAR 주식혼합  ...  5.935272e-53  6.790522e-03  0.812116\n",
              "14   190160  KR7190160002   ARIRANG 단기유동성  ...  3.502235e-01  7.115127e-28  0.332221\n",
              "15   190620  KR7190620005    KINDEX 단기통안채  ...  4.588001e-01  1.348874e-37  0.332789\n",
              "16   196230  KR7196230007    KBSTAR 단기통안채  ...  3.714852e-01  2.506632e-30  0.332406\n",
              "\n",
              "[17 rows x 12 columns]"
            ]
          },
          "metadata": {
            "tags": []
          },
          "execution_count": 20
        }
      ]
    },
    {
      "cell_type": "markdown",
      "metadata": {
        "id": "t2QR_k1vKN5M",
        "colab_type": "text"
      },
      "source": [
        "대부분은 채권펀드임을 알 수 있다. 하지만 일부 종목은 채권펀드가 아니면서 양의 베타와 알파를 가지고 있다. 예를 들어 맥쿼리인프라와 KBSTAR주식혼합펀드는 주식펀드이면서 유의한 양의 알파를 가지는 것을 볼 수 있다."
      ]
    },
    {
      "cell_type": "code",
      "metadata": {
        "id": "VCfPThOg-NFV",
        "colab_type": "code",
        "outputId": "7c45a5b6-1366-4447-f9a8-4fdbb6b63d90",
        "colab": {
          "base_uri": "https://localhost:8080/",
          "height": 419
        }
      },
      "source": [
        "url = \"https://apigw.koscom.co.kr/v2/market/stocks/kospi/183710/history\"\n",
        "queryParams = '?' + urlencode({ quote_plus('trnsmCycleTpCd') : 'M' ,quote_plus('inqStrtDd') : '20141201' ,quote_plus('inqEndDd') : '20191231' ,quote_plus('reqCnt') : '121' ,quote_plus('apikey') : apikey  })\n",
        "response_body = request.urlopen(url + queryParams).read()\n",
        "df_stock = pd.DataFrame(loads(response_body)[\"result\"][\"hisLists\"]).sort_values(\"trdDd\").reset_index(drop=True)\n",
        "df_stock"
      ],
      "execution_count": 21,
      "outputs": [
        {
          "output_type": "execute_result",
          "data": {
            "text/html": [
              "<div>\n",
              "<style scoped>\n",
              "    .dataframe tbody tr th:only-of-type {\n",
              "        vertical-align: middle;\n",
              "    }\n",
              "\n",
              "    .dataframe tbody tr th {\n",
              "        vertical-align: top;\n",
              "    }\n",
              "\n",
              "    .dataframe thead th {\n",
              "        text-align: right;\n",
              "    }\n",
              "</style>\n",
              "<table border=\"1\" class=\"dataframe\">\n",
              "  <thead>\n",
              "    <tr style=\"text-align: right;\">\n",
              "      <th></th>\n",
              "      <th>trdDd</th>\n",
              "      <th>trdPrc</th>\n",
              "      <th>cmpprevddTpCd</th>\n",
              "      <th>opnprc</th>\n",
              "      <th>hgprc</th>\n",
              "      <th>lwprc</th>\n",
              "      <th>accTrdvol</th>\n",
              "      <th>accTrdval</th>\n",
              "      <th>cmpprevddPrc</th>\n",
              "    </tr>\n",
              "  </thead>\n",
              "  <tbody>\n",
              "    <tr>\n",
              "      <th>0</th>\n",
              "      <td>20141230</td>\n",
              "      <td>27735</td>\n",
              "      <td>5</td>\n",
              "      <td>28133</td>\n",
              "      <td>28298</td>\n",
              "      <td>27292</td>\n",
              "      <td>3908</td>\n",
              "      <td>113328250</td>\n",
              "      <td>-442</td>\n",
              "    </tr>\n",
              "    <tr>\n",
              "      <th>1</th>\n",
              "      <td>20150130</td>\n",
              "      <td>28298</td>\n",
              "      <td>2</td>\n",
              "      <td>27700</td>\n",
              "      <td>28436</td>\n",
              "      <td>27379</td>\n",
              "      <td>4202</td>\n",
              "      <td>122439155</td>\n",
              "      <td>525</td>\n",
              "    </tr>\n",
              "    <tr>\n",
              "      <th>2</th>\n",
              "      <td>20150227</td>\n",
              "      <td>28408</td>\n",
              "      <td>2</td>\n",
              "      <td>28278</td>\n",
              "      <td>28499</td>\n",
              "      <td>27927</td>\n",
              "      <td>3458</td>\n",
              "      <td>101728240</td>\n",
              "      <td>119</td>\n",
              "    </tr>\n",
              "    <tr>\n",
              "      <th>3</th>\n",
              "      <td>20150331</td>\n",
              "      <td>28879</td>\n",
              "      <td>2</td>\n",
              "      <td>28476</td>\n",
              "      <td>29086</td>\n",
              "      <td>28308</td>\n",
              "      <td>5161</td>\n",
              "      <td>153989500</td>\n",
              "      <td>463</td>\n",
              "    </tr>\n",
              "    <tr>\n",
              "      <th>4</th>\n",
              "      <td>20150430</td>\n",
              "      <td>29615</td>\n",
              "      <td>2</td>\n",
              "      <td>28775</td>\n",
              "      <td>30245</td>\n",
              "      <td>28686</td>\n",
              "      <td>18552</td>\n",
              "      <td>570875920</td>\n",
              "      <td>706</td>\n",
              "    </tr>\n",
              "    <tr>\n",
              "      <th>...</th>\n",
              "      <td>...</td>\n",
              "      <td>...</td>\n",
              "      <td>...</td>\n",
              "      <td>...</td>\n",
              "      <td>...</td>\n",
              "      <td>...</td>\n",
              "      <td>...</td>\n",
              "      <td>...</td>\n",
              "      <td>...</td>\n",
              "    </tr>\n",
              "    <tr>\n",
              "      <th>56</th>\n",
              "      <td>20190830</td>\n",
              "      <td>31209</td>\n",
              "      <td>5</td>\n",
              "      <td>31672</td>\n",
              "      <td>31837</td>\n",
              "      <td>30527</td>\n",
              "      <td>4018</td>\n",
              "      <td>124172090</td>\n",
              "      <td>-645</td>\n",
              "    </tr>\n",
              "    <tr>\n",
              "      <th>57</th>\n",
              "      <td>20190930</td>\n",
              "      <td>32424</td>\n",
              "      <td>2</td>\n",
              "      <td>31159</td>\n",
              "      <td>32723</td>\n",
              "      <td>31114</td>\n",
              "      <td>1491</td>\n",
              "      <td>48179605</td>\n",
              "      <td>1212</td>\n",
              "    </tr>\n",
              "    <tr>\n",
              "      <th>58</th>\n",
              "      <td>20191031</td>\n",
              "      <td>32604</td>\n",
              "      <td>2</td>\n",
              "      <td>32400</td>\n",
              "      <td>32853</td>\n",
              "      <td>31976</td>\n",
              "      <td>7037</td>\n",
              "      <td>229708725</td>\n",
              "      <td>178</td>\n",
              "    </tr>\n",
              "    <tr>\n",
              "      <th>59</th>\n",
              "      <td>20191129</td>\n",
              "      <td>32703</td>\n",
              "      <td>2</td>\n",
              "      <td>32594</td>\n",
              "      <td>33525</td>\n",
              "      <td>32594</td>\n",
              "      <td>6026</td>\n",
              "      <td>199722115</td>\n",
              "      <td>100</td>\n",
              "    </tr>\n",
              "    <tr>\n",
              "      <th>60</th>\n",
              "      <td>20191230</td>\n",
              "      <td>34490</td>\n",
              "      <td>2</td>\n",
              "      <td>32843</td>\n",
              "      <td>34660</td>\n",
              "      <td>32345</td>\n",
              "      <td>4979</td>\n",
              "      <td>167791085</td>\n",
              "      <td>1787</td>\n",
              "    </tr>\n",
              "  </tbody>\n",
              "</table>\n",
              "<p>61 rows × 9 columns</p>\n",
              "</div>"
            ],
            "text/plain": [
              "       trdDd  trdPrc cmpprevddTpCd  ...  accTrdvol  accTrdval  cmpprevddPrc\n",
              "0   20141230   27735             5  ...       3908  113328250          -442\n",
              "1   20150130   28298             2  ...       4202  122439155           525\n",
              "2   20150227   28408             2  ...       3458  101728240           119\n",
              "3   20150331   28879             2  ...       5161  153989500           463\n",
              "4   20150430   29615             2  ...      18552  570875920           706\n",
              "..       ...     ...           ...  ...        ...        ...           ...\n",
              "56  20190830   31209             5  ...       4018  124172090          -645\n",
              "57  20190930   32424             2  ...       1491   48179605          1212\n",
              "58  20191031   32604             2  ...       7037  229708725           178\n",
              "59  20191129   32703             2  ...       6026  199722115           100\n",
              "60  20191230   34490             2  ...       4979  167791085          1787\n",
              "\n",
              "[61 rows x 9 columns]"
            ]
          },
          "metadata": {
            "tags": []
          },
          "execution_count": 21
        }
      ]
    },
    {
      "cell_type": "markdown",
      "metadata": {
        "id": "KtxgEbewM3N7",
        "colab_type": "text"
      },
      "source": [
        "이 중 KBSTAR 주식혼합펀드의 수익률을 지수와 비교하면 양의 알파가 존재한다는 것을 확인할 수 있다."
      ]
    },
    {
      "cell_type": "code",
      "metadata": {
        "id": "G8CVk8JXA4Zi",
        "colab_type": "code",
        "outputId": "8c39d4c5-945a-46b9-b739-972dd91386cb",
        "colab": {
          "base_uri": "https://localhost:8080/",
          "height": 279
        }
      },
      "source": [
        "stock_rets = df_stock[\"trdPrc\"].pct_change().dropna().values\n",
        "df = pd.DataFrame({\"kospi200\": kospi200_rets, \"stock\": stock_rets})\n",
        "sns.scatterplot(\"kospi200\", \"stock\", data=df)\n",
        "plt.grid(True)\n",
        "plt.show()"
      ],
      "execution_count": 22,
      "outputs": [
        {
          "output_type": "display_data",
          "data": {
            "image/png": "[encoded data removed]",
            "text/plain": [
              "<Figure size 432x288 with 1 Axes>"
            ]
          },
          "metadata": {
            "tags": [],
            "needs_background": "light"
          }
        }
      ]
    },
    {
      "cell_type": "markdown",
      "metadata": {
        "id": "YzjMOWliM_j_",
        "colab_type": "text"
      },
      "source": [
        "다음 차트는 2014년 12월을 기준으로 지수와 KBSTAR 주식혼합펀드의 주가를 비교한 것이다. 베타가 0.718174로 1보다 작기 때문에 오를 때는 더 적게 오르고 내릴 때도 더 적게 내린다."
      ]
    },
    {
      "cell_type": "code",
      "metadata": {
        "id": "F2tVRsedBgca",
        "colab_type": "code",
        "outputId": "4fef690c-7b59-4692-d5a2-71df3a6ee707",
        "colab": {
          "base_uri": "https://localhost:8080/",
          "height": 283
        }
      },
      "source": [
        "plt.plot(np.hstack([1, (stock_rets + 1).cumprod()]), \"r\")\n",
        "plt.plot(np.hstack([1, (kospi200_rets + 1).cumprod()]))"
      ],
      "execution_count": 24,
      "outputs": [
        {
          "output_type": "execute_result",
          "data": {
            "text/plain": [
              "[<matplotlib.lines.Line2D at 0x7fd8e661c160>]"
            ]
          },
          "metadata": {
            "tags": []
          },
          "execution_count": 24
        },
        {
          "output_type": "display_data",
          "data": {
            "image/png": "[encoded data removed]",
            "text/plain": [
              "<Figure size 432x288 with 1 Axes>"
            ]
          },
          "metadata": {
            "tags": [],
            "needs_background": "light"
          }
        }
      ]
    },
    {
      "cell_type": "markdown",
      "metadata": {
        "id": "t2l6bmYtPkKk",
        "colab_type": "text"
      },
      "source": [
        "알파의 존재를 확인하게 위해 베타를 1로 맞추어 비교하면 확실하게 알파가 존재함을 볼 수 있다. \n"
      ]
    },
    {
      "cell_type": "code",
      "metadata": {
        "id": "uhUsXRT-DAVK",
        "colab_type": "code",
        "colab": {
          "base_uri": "https://localhost:8080/",
          "height": 283
        },
        "outputId": "d8affcf4-f639-44d5-9086-b903d5b3ec61"
      },
      "source": [
        "plt.plot(np.hstack([1, (stock_rets / 0.718174 + 1).cumprod()]), \"r\")\n",
        "plt.plot(np.hstack([1, (kospi200_rets + 1).cumprod()]))"
      ],
      "execution_count": 25,
      "outputs": [
        {
          "output_type": "execute_result",
          "data": {
            "text/plain": [
              "[<matplotlib.lines.Line2D at 0x7fd8e902d780>]"
            ]
          },
          "metadata": {
            "tags": []
          },
          "execution_count": 25
        },
        {
          "output_type": "display_data",
          "data": {
            "image/png": "[encoded data removed]",
            "text/plain": [
              "<Figure size 432x288 with 1 Axes>"
            ]
          },
          "metadata": {
            "tags": [],
            "needs_background": "light"
          }
        }
      ]
    },
    {
      "cell_type": "markdown",
      "metadata": {
        "id": "qlQYgh0CPw6Y",
        "colab_type": "text"
      },
      "source": [
        "## 주의사항"
      ]
    },
    {
      "cell_type": "markdown",
      "metadata": {
        "id": "_hlhSRtlP1Vw",
        "colab_type": "text"
      },
      "source": [
        "이 글의 목적은 한국시장에서의 자본자산가격모형이 적용되는 아주 간단한 예를 보이기 위한 것으로 정밀한 분석에 기반한 것이 아니며 특정 주식을 추전하기 위한 것도 아니므로 투자의 추천에 사용될 수 없다는 점에 유의하기 바란다."
      ]
    },
    {
      "cell_type": "code",
      "metadata": {
        "id": "nM8p9jBCQHvG",
        "colab_type": "code",
        "colab": {}
      },
      "source": [
        ""
      ],
      "execution_count": 0,
      "outputs": []
    }
  ]
}